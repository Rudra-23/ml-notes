{
  "nbformat": 4,
  "nbformat_minor": 0,
  "metadata": {
    "colab": {
      "name": "linear_regression.ipynb",
      "provenance": []
    },
    "kernelspec": {
      "name": "python3",
      "display_name": "Python 3"
    }
  },
  "cells": [
    {
      "cell_type": "markdown",
      "metadata": {
        "id": "06oYsVZXdGpL",
        "colab_type": "text"
      },
      "source": [
        "# linear regression\n",
        "\n",
        "(only one degree of theta)"
      ]
    },
    {
      "cell_type": "code",
      "metadata": {
        "id": "y4DX9PhU8Bpf",
        "colab_type": "code",
        "colab": {}
      },
      "source": [
        "import numpy as np\n",
        "X = 2 * np.random.rand(100, 1)\n",
        "y = 4 + 3 * X + np.random.randn(100, 1)"
      ],
      "execution_count": 177,
      "outputs": []
    },
    {
      "cell_type": "code",
      "metadata": {
        "id": "SF12FpqW9Mtg",
        "colab_type": "code",
        "colab": {
          "base_uri": "https://localhost:8080/",
          "height": 282
        },
        "outputId": "8059b090-cbae-437e-c0e9-f1ff407b7bc6"
      },
      "source": [
        "%matplotlib inline\n",
        "import matplotlib.pyplot as plt\n",
        "plt.plot(X,y,'r+')"
      ],
      "execution_count": 178,
      "outputs": [
        {
          "output_type": "execute_result",
          "data": {
            "text/plain": [
              "[<matplotlib.lines.Line2D at 0x7fe550c0a320>]"
            ]
          },
          "metadata": {
            "tags": []
          },
          "execution_count": 178
        },
        {
          "output_type": "display_data",
          "data": {
            "image/png": "[encoded data removed]",
            "text/plain": [
              "<Figure size 432x288 with 1 Axes>"
            ]
          },
          "metadata": {
            "tags": [],
            "needs_background": "light"
          }
        }
      ]
    },
    {
      "cell_type": "code",
      "metadata": {
        "id": "h9sdKWWTA1Jb",
        "colab_type": "code",
        "colab": {
          "base_uri": "https://localhost:8080/",
          "height": 34
        },
        "outputId": "92c424ca-9ac3-49b1-ecf7-bcc23b3bb190"
      },
      "source": [
        "from sklearn.linear_model import LinearRegression\n",
        "import numpy as np\n",
        "\n",
        "lin_reg =LinearRegression()\n",
        "lin_reg.fit(X,y)\n"
      ],
      "execution_count": 179,
      "outputs": [
        {
          "output_type": "execute_result",
          "data": {
            "text/plain": [
              "LinearRegression(copy_X=True, fit_intercept=True, n_jobs=None, normalize=False)"
            ]
          },
          "metadata": {
            "tags": []
          },
          "execution_count": 179
        }
      ]
    },
    {
      "cell_type": "code",
      "metadata": {
        "id": "Puo7RRBaEZvb",
        "colab_type": "code",
        "colab": {
          "base_uri": "https://localhost:8080/",
          "height": 34
        },
        "outputId": "19cbc227-16f0-455f-e73c-623bfe5874eb"
      },
      "source": [
        "theta0,theta1=lin_reg.intercept_,lin_reg.coef_ # theta0 ,Theta1\n",
        "print(theta0,theta1)"
      ],
      "execution_count": 180,
      "outputs": [
        {
          "output_type": "stream",
          "text": [
            "[4.07357657] [[2.86419177]]\n"
          ],
          "name": "stdout"
        }
      ]
    },
    {
      "cell_type": "code",
      "metadata": {
        "id": "Bbw3A5H3EpHw",
        "colab_type": "code",
        "colab": {
          "base_uri": "https://localhost:8080/",
          "height": 282
        },
        "outputId": "e41d2ab2-249d-4ecd-c05e-42dc057292fe"
      },
      "source": [
        "\n",
        "plt.plot(X,y,'r+')\n",
        "plt.plot(X,theta0+theta1*X,'b-')"
      ],
      "execution_count": 181,
      "outputs": [
        {
          "output_type": "execute_result",
          "data": {
            "text/plain": [
              "[<matplotlib.lines.Line2D at 0x7fe550d38dd8>]"
            ]
          },
          "metadata": {
            "tags": []
          },
          "execution_count": 181
        },
        {
          "output_type": "display_data",
          "data": {
            "image/png": "[encoded data removed]",
            "text/plain": [
              "<Figure size 432x288 with 1 Axes>"
            ]
          },
          "metadata": {
            "tags": [],
            "needs_background": "light"
          }
        }
      ]
    },
    {
      "cell_type": "code",
      "metadata": {
        "id": "Xo8sx82lFKmx",
        "colab_type": "code",
        "colab": {}
      },
      "source": [
        "#Theta =[X.T*X]-1 *X.T*y\n",
        "X_new =X.copy()\n",
        "X_new=np.insert(X_new,0,1,axis=1)\n",
        "#Theta =np.linalg.inv(X_new.T.dot(X_new)).dot(X_new.T).dot(y)\n",
        "Theta =np.linalg.pinv(X_new).dot(y)"
      ],
      "execution_count": 182,
      "outputs": []
    },
    {
      "cell_type": "code",
      "metadata": {
        "id": "h3s_eU87F7tc",
        "colab_type": "code",
        "colab": {
          "base_uri": "https://localhost:8080/",
          "height": 51
        },
        "outputId": "f358bf0e-aca2-4d63-de93-6133c9b8253d"
      },
      "source": [
        "Theta"
      ],
      "execution_count": 183,
      "outputs": [
        {
          "output_type": "execute_result",
          "data": {
            "text/plain": [
              "array([[4.07357657],\n",
              "       [2.86419177]])"
            ]
          },
          "metadata": {
            "tags": []
          },
          "execution_count": 183
        }
      ]
    },
    {
      "cell_type": "code",
      "metadata": {
        "id": "U_N9QeZJGaze",
        "colab_type": "code",
        "colab": {
          "base_uri": "https://localhost:8080/",
          "height": 282
        },
        "outputId": "360d45b2-512a-4b69-9467-f5dee92c2fdf"
      },
      "source": [
        "# using normalization equation\n",
        "plt.plot(X,y,'r+')\n",
        "plt.plot(X,Theta[0]+Theta[1]*X,'b-')"
      ],
      "execution_count": 184,
      "outputs": [
        {
          "output_type": "execute_result",
          "data": {
            "text/plain": [
              "[<matplotlib.lines.Line2D at 0x7fe550b7b940>]"
            ]
          },
          "metadata": {
            "tags": []
          },
          "execution_count": 184
        },
        {
          "output_type": "display_data",
          "data": {
            "image/png": "[encoded data removed]",
            "text/plain": [
              "<Figure size 432x288 with 1 Axes>"
            ]
          },
          "metadata": {
            "tags": [],
            "needs_background": "light"
          }
        }
      ]
    },
    {
      "cell_type": "code",
      "metadata": {
        "id": "i4OVOnEsGtoS",
        "colab_type": "code",
        "colab": {
          "base_uri": "https://localhost:8080/",
          "height": 51
        },
        "outputId": "dd04cc04-110a-4fb4-bc77-f53c3cb047c5"
      },
      "source": [
        "#gradient descent algo\n",
        "alpha =0.1\n",
        "m=100\n",
        "Theta_new =np.random.randn(2,1)\n",
        "iter =1000\n",
        "J=[]\n",
        "for i in range(iter):\n",
        "  error =np.dot(X_new,Theta_new) -y\n",
        "  newX=np.dot(error.T,X)\n",
        "  Theta_new = Theta_new -(alpha/m)*newX.T\n",
        "  J.append(np.sum((np.dot(X_new,Theta_new)-y)**2))\n",
        "  # store cost func after every step\n",
        "print(Theta_new)\n",
        "\n"
      ],
      "execution_count": 185,
      "outputs": [
        {
          "output_type": "stream",
          "text": [
            "[[4.00948674]\n",
            " [2.91303634]]\n"
          ],
          "name": "stdout"
        }
      ]
    },
    {
      "cell_type": "code",
      "metadata": {
        "id": "AR3oUAafIreL",
        "colab_type": "code",
        "colab": {
          "base_uri": "https://localhost:8080/",
          "height": 282
        },
        "outputId": "cc454208-37b6-4446-be23-50a4b120bb28"
      },
      "source": [
        "plt.plot(range(iter),J,'r-')\n",
        "# alpha vs iter graph"
      ],
      "execution_count": 186,
      "outputs": [
        {
          "output_type": "execute_result",
          "data": {
            "text/plain": [
              "[<matplotlib.lines.Line2D at 0x7fe550a55f60>]"
            ]
          },
          "metadata": {
            "tags": []
          },
          "execution_count": 186
        },
        {
          "output_type": "display_data",
          "data": {
            "image/png": "[encoded data removed]",
            "text/plain": [
              "<Figure size 432x288 with 1 Axes>"
            ]
          },
          "metadata": {
            "tags": [],
            "needs_background": "light"
          }
        }
      ]
    },
    {
      "cell_type": "code",
      "metadata": {
        "id": "wnIX5dvdMicW",
        "colab_type": "code",
        "colab": {
          "base_uri": "https://localhost:8080/",
          "height": 51
        },
        "outputId": "d914020d-e0c4-4d56-dbc5-7adcebc5fd8d"
      },
      "source": [
        "#stochastic Gradient Descent\n",
        "n_epochs =50\n",
        "t0,t1=5,50\n",
        "alpha = 0.1\n",
        "Theta_sto =np.random.randn(2,1)\n",
        "\n",
        "def learning_schedule(t):\n",
        "  return t0/(t+t1)\n",
        "\n",
        "J_sto=[]\n",
        "\n",
        "for epoch in range(n_epochs):\n",
        "  for i in range(m):\n",
        "    random_index = np.random.randint(m)\n",
        "    xi = X_new[random_index:random_index+1]\n",
        "    yi = y[random_index:random_index+1]\n",
        "    gradients = np.dot((xi.dot(Theta_sto) - yi),xi)\n",
        "    alpha = learning_schedule(epoch*m+i)\n",
        "    Theta_sto = Theta_sto - alpha * gradients.T\n",
        "    #cost function\n",
        "    J_sto.append(np.sum((np.dot(xi,Theta_sto)-yi)**2))\n",
        "print(Theta_sto)"
      ],
      "execution_count": 187,
      "outputs": [
        {
          "output_type": "stream",
          "text": [
            "[[4.02403794]\n",
            " [2.9113362 ]]\n"
          ],
          "name": "stdout"
        }
      ]
    },
    {
      "cell_type": "code",
      "metadata": {
        "id": "CUnuC-OJTR4p",
        "colab_type": "code",
        "colab": {
          "base_uri": "https://localhost:8080/",
          "height": 265
        },
        "outputId": "4cd63d0c-0596-41ab-d2e3-60cb554ecc9c"
      },
      "source": [
        "plt.plot(range(n_epochs*m),J_sto,'r-')\n",
        "plt.show()"
      ],
      "execution_count": 188,
      "outputs": [
        {
          "output_type": "display_data",
          "data": {
            "image/png": "[encoded data removed]",
            "text/plain": [
              "<Figure size 432x288 with 1 Axes>"
            ]
          },
          "metadata": {
            "tags": [],
            "needs_background": "light"
          }
        }
      ]
    },
    {
      "cell_type": "code",
      "metadata": {
        "id": "dZlcpnZmZUYY",
        "colab_type": "code",
        "colab": {
          "base_uri": "https://localhost:8080/",
          "height": 119
        },
        "outputId": "ca7ab6db-7e07-490f-9535-857c4c8faf82"
      },
      "source": [
        "from sklearn.linear_model import SGDRegressor\n",
        "sgd_reg =SGDRegressor(max_iter=1000,tol=1e-3,penalty=None,eta0=0.1)\n",
        "sgd_reg.fit(X,y.ravel())\n"
      ],
      "execution_count": 200,
      "outputs": [
        {
          "output_type": "execute_result",
          "data": {
            "text/plain": [
              "SGDRegressor(alpha=0.0001, average=False, early_stopping=False, epsilon=0.1,\n",
              "             eta0=0.1, fit_intercept=True, l1_ratio=0.15,\n",
              "             learning_rate='invscaling', loss='squared_loss', max_iter=1000,\n",
              "             n_iter_no_change=5, penalty=None, power_t=0.25, random_state=None,\n",
              "             shuffle=True, tol=0.001, validation_fraction=0.1, verbose=0,\n",
              "             warm_start=False)"
            ]
          },
          "metadata": {
            "tags": []
          },
          "execution_count": 200
        }
      ]
    },
    {
      "cell_type": "code",
      "metadata": {
        "id": "gg_jl0-Obf8k",
        "colab_type": "code",
        "colab": {
          "base_uri": "https://localhost:8080/",
          "height": 34
        },
        "outputId": "2e300917-fc44-45f0-9564-86e7c82f3b52"
      },
      "source": [
        "sgd_reg.intercept_,sgd_reg.coef_"
      ],
      "execution_count": 201,
      "outputs": [
        {
          "output_type": "execute_result",
          "data": {
            "text/plain": [
              "(array([4.09460211]), array([2.89994565]))"
            ]
          },
          "metadata": {
            "tags": []
          },
          "execution_count": 201
        }
      ]
    },
    {
      "cell_type": "markdown",
      "metadata": {
        "id": "qHEll7Xfc1DC",
        "colab_type": "text"
      },
      "source": [
        "# polynomial regression\n",
        "\n",
        "(larger degrees of theta\n",
        ")"
      ]
    },
    {
      "cell_type": "code",
      "metadata": {
        "id": "siw-GQN2dCtR",
        "colab_type": "code",
        "colab": {}
      },
      "source": [
        "m = 100\n",
        "X = 6 * np.random.rand(m, 1) - 3\n",
        "y = 0.5 * X**2 + X + 2 + np.random.randn(m, 1)"
      ],
      "execution_count": 202,
      "outputs": []
    },
    {
      "cell_type": "code",
      "metadata": {
        "id": "5o-l6Zk6dW7-",
        "colab_type": "code",
        "colab": {
          "base_uri": "https://localhost:8080/",
          "height": 265
        },
        "outputId": "2f21c8ce-ba9c-4999-cf1a-48b8898091be"
      },
      "source": [
        "plt.plot(X,y,'r+')\n",
        "plt.show()"
      ],
      "execution_count": 203,
      "outputs": [
        {
          "output_type": "display_data",
          "data": {
            "image/png": "[encoded data removed]",
            "text/plain": [
              "<Figure size 432x288 with 1 Axes>"
            ]
          },
          "metadata": {
            "tags": [],
            "needs_background": "light"
          }
        }
      ]
    },
    {
      "cell_type": "code",
      "metadata": {
        "id": "zR0GHA8cdfeQ",
        "colab_type": "code",
        "colab": {
          "base_uri": "https://localhost:8080/",
          "height": 282
        },
        "outputId": "3778de49-e59c-4da6-ae81-96751dedd280"
      },
      "source": [
        "from sklearn.linear_model import LinearRegression\n",
        "from sklearn.preprocessing import PolynomialFeatures\n",
        "#degree 2 fit\n",
        "poly_features =PolynomialFeatures(degree=2,include_bias=False)\n",
        "X_poly = poly_features.fit_transform(X)\n",
        "lin_reg = LinearRegression()\n",
        "lin_reg.fit(X_poly,y)\n",
        "\n",
        "theta0 ,theta_poly =lin_reg.intercept_,lin_reg.coef_\n",
        "print(theta0,theta_poly)\n",
        "y_poly =np.dot(X_poly,theta_poly.T)+theta0\n",
        "plt.plot(X,y_poly,'r.')\n",
        "plt.show()"
      ],
      "execution_count": 307,
      "outputs": [
        {
          "output_type": "stream",
          "text": [
            "[2.08401662] [[1.04184656 0.48741434]]\n"
          ],
          "name": "stdout"
        },
        {
          "output_type": "display_data",
          "data": {
            "image/png": "[encoded data removed]",
            "text/plain": [
              "<Figure size 432x288 with 1 Axes>"
            ]
          },
          "metadata": {
            "tags": [],
            "needs_background": "light"
          }
        }
      ]
    },
    {
      "cell_type": "code",
      "metadata": {
        "id": "0PS7LDMhpbr-",
        "colab_type": "code",
        "colab": {
          "base_uri": "https://localhost:8080/",
          "height": 266
        },
        "outputId": "30cbd439-7209-4197-f8c6-e17d1ad60b77"
      },
      "source": [
        "from sklearn.linear_model import LinearRegression\n",
        "from sklearn.preprocessing import PolynomialFeatures\n",
        "#degree 30 overfit\n",
        "poly_features =PolynomialFeatures(degree=30,include_bias=False)\n",
        "X_poly = poly_features.fit_transform(X)\n",
        "lin_reg = LinearRegression()\n",
        "lin_reg.fit(X_poly,y)\n",
        "\n",
        "theta0 ,theta_poly =lin_reg.intercept_,lin_reg.coef_\n",
        "\n",
        "y_poly =np.dot(X_poly,theta_poly.T)+theta0\n",
        "plt.plot(X,y_poly,'r.')\n",
        "plt.show()"
      ],
      "execution_count": 292,
      "outputs": [
        {
          "output_type": "display_data",
          "data": {
            "image/png": "[encoded data removed]",
            "text/plain": [
              "<Figure size 432x288 with 1 Axes>"
            ]
          },
          "metadata": {
            "tags": [],
            "needs_background": "light"
          }
        }
      ]
    },
    {
      "cell_type": "code",
      "metadata": {
        "id": "Nl5ZyO-Mm7Oh",
        "colab_type": "code",
        "colab": {
          "base_uri": "https://localhost:8080/",
          "height": 265
        },
        "outputId": "d7299c7d-75b2-4550-f6aa-8ea41ca08a60"
      },
      "source": [
        "from sklearn.metrics import mean_squared_error\n",
        "from sklearn.model_selection import train_test_split\n",
        "\n",
        "# High variance\n",
        "\n",
        "def plot_learning_curves(model, X, y):\n",
        "  X_train, X_val, y_train, y_val = train_test_split(X, y, test_size=0.2)\n",
        "  train_errors, val_errors = [], []\n",
        "  for m in range(1, len(X_train)):\n",
        "    model.fit(X_train[:m], y_train[:m])\n",
        "    y_train_predict = model.predict(X_train[:m])\n",
        "    y_val_predict = model.predict(X_val)\n",
        "    train_errors.append(mean_squared_error(y_train[:m], y_train_predict))\n",
        "    val_errors.append(mean_squared_error(y_val, y_val_predict))\n",
        "    plt.plot(np.sqrt(train_errors), \"r-+\", linewidth=2, label=\"train\")\n",
        "    plt.plot(np.sqrt(val_errors), \"b-\", linewidth=3, label=\"val\")\n",
        "\n",
        "plot_learning_curves(LinearRegression(),X,y)"
      ],
      "execution_count": 298,
      "outputs": [
        {
          "output_type": "display_data",
          "data": {
            "image/png": "[encoded data removed]",
            "text/plain": [
              "<Figure size 432x288 with 1 Axes>"
            ]
          },
          "metadata": {
            "tags": [],
            "needs_background": "light"
          }
        }
      ]
    },
    {
      "cell_type": "code",
      "metadata": {
        "id": "iP9Fe6t4uwte",
        "colab_type": "code",
        "colab": {
          "base_uri": "https://localhost:8080/",
          "height": 265
        },
        "outputId": "869eb841-2066-46de-da22-9f11c10fe6dc"
      },
      "source": [
        "from sklearn.linear_model import Ridge\n",
        "from sklearn.preprocessing import PolynomialFeatures\n",
        "#degree 30 overfit\n",
        "poly_features =PolynomialFeatures(degree=30,include_bias=False)\n",
        "X_poly = poly_features.fit_transform(X)\n",
        "ridge_reg = Ridge(alpha=1,solver=\"cholesky\")\n",
        "ridge_reg.fit(X_poly, y)\n",
        "theta0,theta_poly = ridge_reg.intercept_,ridge_reg.coef_\n",
        "\n",
        "y_poly =np.dot(X_poly,theta_poly.T)+theta0\n",
        "plt.plot(X,y_poly,'r.')\n",
        "plt.show()"
      ],
      "execution_count": 314,
      "outputs": [
        {
          "output_type": "display_data",
          "data": {
            "image/png": "[encoded data removed]",
            "text/plain": [
              "<Figure size 432x288 with 1 Axes>"
            ]
          },
          "metadata": {
            "tags": [],
            "needs_background": "light"
          }
        }
      ]
    },
    {
      "cell_type": "code",
      "metadata": {
        "id": "awpDuEM_xkxu",
        "colab_type": "code",
        "colab": {}
      },
      "source": [
        "m=50\n",
        "n=4\n",
        "X =np.random.randn(m,4)\n",
        "y=X.sum(axis=1)\n",
        "y=(y**2).T\n"
      ],
      "execution_count": 390,
      "outputs": []
    },
    {
      "cell_type": "code",
      "metadata": {
        "id": "5q5frTJx0jQO",
        "colab_type": "code",
        "colab": {
          "base_uri": "https://localhost:8080/",
          "height": 51
        },
        "outputId": "f15652af-09d6-4063-8021-f35286ac7613"
      },
      "source": [
        "from sklearn.linear_model import LinearRegression\n",
        "lin_reg =LinearRegression()\n",
        "lin_reg.fit(X,y)\n",
        "print(lin_reg.intercept_,lin_reg.coef_)\n",
        "print(lin_reg.predict(np.array([[1,2,3,4]])))\n"
      ],
      "execution_count": 399,
      "outputs": [
        {
          "output_type": "stream",
          "text": [
            "3.145622232209367 [ 0.89371348  1.74868117  0.83004669 -0.05560022]\n",
            "[9.80443726]\n"
          ],
          "name": "stdout"
        }
      ]
    },
    {
      "cell_type": "code",
      "metadata": {
        "id": "nsLXe1Vu3cam",
        "colab_type": "code",
        "colab": {
          "base_uri": "https://localhost:8080/",
          "height": 34
        },
        "outputId": "c074b876-8391-4187-a578-012625dbc2e9"
      },
      "source": [
        "X_n=X.copy()\n",
        "X_n=np.insert(X-n,0,1,axis=1)\n",
        "theta =np.linalg.pinv(X_n).dot(y)\n",
        "theta"
      ],
      "execution_count": 392,
      "outputs": [
        {
          "output_type": "execute_result",
          "data": {
            "text/plain": [
              "array([16.81298674,  0.89371348,  1.74868117,  0.83004669, -0.05560022])"
            ]
          },
          "metadata": {
            "tags": []
          },
          "execution_count": 392
        }
      ]
    },
    {
      "cell_type": "code",
      "metadata": {
        "id": "RXhoPoaD8VxE",
        "colab_type": "code",
        "colab": {
          "base_uri": "https://localhost:8080/",
          "height": 85
        },
        "outputId": "61a191cf-3620-4f96-dde7-e4b66c4b4e58"
      },
      "source": [
        "from sklearn.preprocessing import PolynomialFeatures\n",
        "poly_features =PolynomialFeatures(degree = 2,include_bias=False)\n",
        "X_poly=poly_features.fit_transform(X)\n",
        "lin_reg =LinearRegression()\n",
        "lin_reg.fit(X_poly,y)\n",
        "print(lin_reg.intercept_,lin_reg.coef_)"
      ],
      "execution_count": 418,
      "outputs": [
        {
          "output_type": "stream",
          "text": [
            "8.881784197001252e-16 [-2.33247796e-15 -2.83106871e-15 -2.39391840e-15 -8.46545056e-16\n",
            "  1.00000000e+00  2.00000000e+00  2.00000000e+00  2.00000000e+00\n",
            "  1.00000000e+00  2.00000000e+00  2.00000000e+00  1.00000000e+00\n",
            "  2.00000000e+00  1.00000000e+00]\n"
          ],
          "name": "stdout"
        }
      ]
    },
    {
      "cell_type": "code",
      "metadata": {
        "id": "trO0z12h94Sf",
        "colab_type": "code",
        "colab": {
          "base_uri": "https://localhost:8080/",
          "height": 34
        },
        "outputId": "0d6a364d-4ca4-408e-eb6a-9a8b00639d43"
      },
      "source": [
        "predict_y=PolynomialFeatures(degree=2,include_bias=False).fit_transform(np.array([[3,1,1,2]]))\n",
        "lin_reg.predict(predict_y)"
      ],
      "execution_count": 419,
      "outputs": [
        {
          "output_type": "execute_result",
          "data": {
            "text/plain": [
              "array([49.])"
            ]
          },
          "metadata": {
            "tags": []
          },
          "execution_count": 419
        }
      ]
    },
    {
      "cell_type": "code",
      "metadata": {
        "id": "srVniLIb-RaI",
        "colab_type": "code",
        "colab": {
          "base_uri": "https://localhost:8080/",
          "height": 265
        },
        "outputId": "eedc8a9f-3a4e-488b-8641-8b4da73b3c09"
      },
      "source": [
        "from sklearn.metrics import mean_squared_error\n",
        "from sklearn.model_selection import train_test_split\n",
        "\n",
        "# graph ( cross-validation vs training ) learning curves\n",
        "\n",
        "def plot_learning_curves(model, X, y):\n",
        "  X_train, X_val, y_train, y_val = train_test_split(X, y, test_size=0.2)\n",
        "  train_errors, val_errors = [], []\n",
        "  for m in range(1, len(X_train)):\n",
        "    model.fit(X_train[:m], y_train[:m])\n",
        "    y_train_predict = model.predict(X_train[:m])\n",
        "    y_val_predict = model.predict(X_val)\n",
        "    train_errors.append(mean_squared_error(y_train[:m], y_train_predict))\n",
        "    val_errors.append(mean_squared_error(y_val, y_val_predict))\n",
        "    plt.plot(np.sqrt(train_errors), \"r-+\", linewidth=2, label=\"train\")\n",
        "    plt.plot(np.sqrt(val_errors), \"b-\", linewidth=3, label=\"val\")\n",
        "\n",
        "plot_learning_curves(LinearRegression(),X_poly,y)"
      ],
      "execution_count": 420,
      "outputs": [
        {
          "output_type": "display_data",
          "data": {
            "image/png": "[encoded data removed]",
            "text/plain": [
              "<Figure size 432x288 with 1 Axes>"
            ]
          },
          "metadata": {
            "tags": [],
            "needs_background": "light"
          }
        }
      ]
    },
    {
      "cell_type": "code",
      "metadata": {
        "id": "H15cLq-rDEmV",
        "colab_type": "code",
        "colab": {}
      },
      "source": [
        ""
      ],
      "execution_count": null,
      "outputs": []
    }
  ]
}